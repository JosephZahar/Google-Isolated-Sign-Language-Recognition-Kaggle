{
 "cells": [
  {
   "cell_type": "markdown",
   "id": "15059934",
   "metadata": {
    "papermill": {
     "duration": 0.0057,
     "end_time": "2023-03-22T15:04:36.089211",
     "exception": false,
     "start_time": "2023-03-22T15:04:36.083511",
     "status": "completed"
    },
    "tags": []
   },
   "source": [
    "# 🔎Unlock the Secrets of ASL: Interactive Dashboard using Plotly!"
   ]
  },
  {
   "cell_type": "markdown",
   "id": "ee423e83",
   "metadata": {
    "_cell_guid": "b1076dfc-b9ad-4769-8c92-a6c4dae69d19",
    "_uuid": "8f2839f25d086af736a60e9eeb907d3b93b6e0e5",
    "papermill": {
     "duration": 0.004235,
     "end_time": "2023-03-22T15:04:36.098501",
     "exception": false,
     "start_time": "2023-03-22T15:04:36.094266",
     "status": "completed"
    },
    "tags": []
   },
   "source": [
    "This notebook presents an interactive dashboard that allows exploring American Sign Language (ASL) landmarks in 2D space. By selecting different ASL categories and IDs, users can filter the displayed landmarks and study the hand shapes and movements associated with specific signs. The dashboard is built with Plotly and Python, and can be used for educational purposes or to support the development of ASL recognition systems. \n",
    "\n",
    "With just a few lines of code, the notebook will generate a link to the dashboard, and you can begin exploring any ASL gestures given in the Google - Isolated Sign Language Recognition Dataset. Whether you're a student of ASL or simply interested in exploring this fascinating language, this tool is both easy to use and incredibly informative. The intuitive interface makes it easy to explore the intricacies of ASL gestures, gain a deeper understanding of this rich language, and of course help you fine tune the model by identifying what caused the drop in accuracy for a certain category.\n",
    "\n",
    "**Multi-page dashboard:**\n",
    "1. **2D Animation**\n",
    "2. **Mean Frames**\n",
    "\n",
    "SNEAK PEAK (🚨Watch All the Recording⚠️):\n",
    "\n",
    "**You only have to run the notebook and click on the second link at the end of the notebook!**"
   ]
  },
  {
   "cell_type": "code",
   "execution_count": 1,
   "id": "0bae021c",
   "metadata": {
    "execution": {
     "iopub.execute_input": "2023-03-22T15:04:36.109291Z",
     "iopub.status.busy": "2023-03-22T15:04:36.108858Z",
     "iopub.status.idle": "2023-03-22T15:04:36.124078Z",
     "shell.execute_reply": "2023-03-22T15:04:36.122963Z"
    },
    "papermill": {
     "duration": 0.024023,
     "end_time": "2023-03-22T15:04:36.126986",
     "exception": false,
     "start_time": "2023-03-22T15:04:36.102963",
     "status": "completed"
    },
    "tags": []
   },
   "outputs": [
    {
     "data": {
      "text/html": [
       "<div align=\"center\"><iframe align=\"middle\" width=\"1000\" height=\"904\" src=\"https://www.youtube.com/embed/LIT8zOhnIxs\" frameborder=\"0\" allow=\"accelerometer; autoplay; clipboard-write; encrypted-media; gyroscope; picture-in-picture; web-share\" allowfullscreen></iframe></div>"
      ],
      "text/plain": [
       "<IPython.core.display.HTML object>"
      ]
     },
     "execution_count": 1,
     "metadata": {},
     "output_type": "execute_result"
    }
   ],
   "source": [
    "from IPython.display import HTML\n",
    "HTML('<div align=\"center\"><iframe align=\"middle\" width=\"1000\" height=\"904\" src=\"https://www.youtube.com/embed/LIT8zOhnIxs\" frameborder=\"0\" allow=\"accelerometer; autoplay; clipboard-write; encrypted-media; gyroscope; picture-in-picture; web-share\" allowfullscreen></iframe></div>')"
   ]
  },
  {
   "cell_type": "markdown",
   "id": "64eba036",
   "metadata": {
    "papermill": {
     "duration": 0.004241,
     "end_time": "2023-03-22T15:04:36.135996",
     "exception": false,
     "start_time": "2023-03-22T15:04:36.131755",
     "status": "completed"
    },
    "tags": []
   },
   "source": [
    "### Packages"
   ]
  },
  {
   "cell_type": "code",
   "execution_count": 2,
   "id": "0a3534ea",
   "metadata": {
    "execution": {
     "iopub.execute_input": "2023-03-22T15:04:36.147337Z",
     "iopub.status.busy": "2023-03-22T15:04:36.146539Z",
     "iopub.status.idle": "2023-03-22T15:05:40.978326Z",
     "shell.execute_reply": "2023-03-22T15:05:40.976951Z"
    },
    "papermill": {
     "duration": 64.84088,
     "end_time": "2023-03-22T15:05:40.981440",
     "exception": false,
     "start_time": "2023-03-22T15:04:36.140560",
     "status": "completed"
    },
    "tags": []
   },
   "outputs": [
    {
     "name": "stdout",
     "output_type": "stream",
     "text": [
      "\u001b[33mWARNING: Running pip as the 'root' user can result in broken permissions and conflicting behaviour with the system package manager. It is recommended to use a virtual environment instead: https://pip.pypa.io/warnings/venv\u001b[0m\u001b[33m\r\n",
      "\u001b[0m\u001b[33mWARNING: Running pip as the 'root' user can result in broken permissions and conflicting behaviour with the system package manager. It is recommended to use a virtual environment instead: https://pip.pypa.io/warnings/venv\u001b[0m\u001b[33m\r\n",
      "\u001b[0m\u001b[33mWARNING: Running pip as the 'root' user can result in broken permissions and conflicting behaviour with the system package manager. It is recommended to use a virtual environment instead: https://pip.pypa.io/warnings/venv\u001b[0m\u001b[33m\r\n",
      "\u001b[0m\u001b[33mWARNING: Running pip as the 'root' user can result in broken permissions and conflicting behaviour with the system package manager. It is recommended to use a virtual environment instead: https://pip.pypa.io/warnings/venv\u001b[0m\u001b[33m\r\n",
      "Authtoken saved to configuration file: /root/.ngrok2/ngrok.yml\r\n"
     ]
    }
   ],
   "source": [
    "import plotly.io as pio\n",
    "pio.templates.default = \"simple_white\"\n",
    "import plotly.graph_objects as go\n",
    "!pip install -q jupyter_dash\n",
    "!pip install dash-cytoscape -q\n",
    "import dash_cytoscape as cyto \n",
    "\n",
    "try:\n",
    "    from pyngrok import ngrok\n",
    "except:\n",
    "    !pip install -q pyngrok\n",
    "    from pyngrok import ngrok\n",
    "    \n",
    "try:\n",
    "    import dash_bootstrap_components as dbc\n",
    "except:\n",
    "    !pip install -q dash_bootstrap_components\n",
    "    import dash_bootstrap_components as dbc\n",
    "\n",
    "from dash import dcc, dash\n",
    "import warnings\n",
    "\n",
    "warnings.filterwarnings(\"ignore\")\n",
    "from dash import html, dcc\n",
    "from dash.dependencies import Input, Output\n",
    "import pandas as pd\n",
    "from jupyter_dash import JupyterDash \n",
    "\n",
    "!ngrok authtoken 2N6MyaoUfK1C0hvwSAajUzgLURx_yREPXyNkRz9Mv13x15Ba\n",
    "tunnel = ngrok.connect(8050)"
   ]
  },
  {
   "cell_type": "markdown",
   "id": "591a62cb",
   "metadata": {
    "papermill": {
     "duration": 0.009217,
     "end_time": "2023-03-22T15:05:41.000190",
     "exception": false,
     "start_time": "2023-03-22T15:05:40.990973",
     "status": "completed"
    },
    "tags": []
   },
   "source": [
    "## Helper Functions"
   ]
  },
  {
   "cell_type": "code",
   "execution_count": 3,
   "id": "f38ddb49",
   "metadata": {
    "execution": {
     "iopub.execute_input": "2023-03-22T15:05:41.022120Z",
     "iopub.status.busy": "2023-03-22T15:05:41.021648Z",
     "iopub.status.idle": "2023-03-22T15:05:41.062966Z",
     "shell.execute_reply": "2023-03-22T15:05:41.061526Z"
    },
    "papermill": {
     "duration": 0.056118,
     "end_time": "2023-03-22T15:05:41.065868",
     "exception": false,
     "start_time": "2023-03-22T15:05:41.009750",
     "status": "completed"
    },
    "tags": []
   },
   "outputs": [],
   "source": [
    "def assign_color(row):\n",
    "    if row == 'face':\n",
    "        return 'red'\n",
    "    elif 'hand' in row:\n",
    "        return 'dodgerblue'\n",
    "    else:\n",
    "        return 'green'\n",
    "\n",
    "\n",
    "def assign_order(row):\n",
    "    if row.type == 'face':\n",
    "        return row.landmark_index + 101\n",
    "    elif row.type == 'pose':\n",
    "        return row.landmark_index + 30\n",
    "    elif row.type == 'left_hand':\n",
    "        return row.landmark_index + 80\n",
    "    else:\n",
    "        return row.landmark_index\n",
    "\n",
    "def filter_group(group):\n",
    "    if group[group.type == 'right_hand'].x.isnull().all():\n",
    "        new_group = group[group.type != 'right_hand']\n",
    "        if new_group[new_group.type == 'left_hand'].x.isnull().all():\n",
    "             return pd.DataFrame(columns=group.columns)\n",
    "        return group\n",
    "    else:\n",
    "        new_group = group[group.type != 'left_hand']\n",
    "        if new_group[new_group.type == 'right_hand'].x.isnull().all():\n",
    "             return pd.DataFrame(columns=group.columns)\n",
    "\n",
    "\n",
    "def visualise2d_landmarks(parquet_df):\n",
    "    connections = [  # right hand\n",
    "        [0, 1, 2, 3, 4,],\n",
    "        [0, 5, 6, 7, 8],\n",
    "        [0, 9, 10, 11, 12],\n",
    "        [0, 13, 14, 15, 16],\n",
    "        [0, 17, 18, 19, 20],\n",
    "\n",
    "        # pose\n",
    "        [38, 36, 35, 34, 30, 31, 32, 33, 37],\n",
    "        [40, 39],\n",
    "        [52, 46, 50, 48, 46, 44, 42, 41, 43, 45, 47, 49, 45, 51],\n",
    "        [42, 54, 56, 58, 60, 62, 58],\n",
    "        [41, 53, 55, 57, 59, 61, 57],\n",
    "        [54, 53],\n",
    "\n",
    "        # left hand\n",
    "        [80, 81, 82, 83, 84, ],\n",
    "        [80, 85, 86, 87, 88],\n",
    "        [80, 89, 90, 91, 92],\n",
    "        [80, 93, 94, 95, 96],\n",
    "        [80, 97, 98, 99, 100], ]\n",
    "\n",
    "\n",
    "    frames = sorted(set(parquet_df.frame))\n",
    "    first_frame = min(frames)\n",
    "    parquet_df['color'] = parquet_df.type.apply(lambda row: assign_color(row))\n",
    "    parquet_df['plot_order'] = parquet_df.apply(lambda row: assign_order(row), axis=1)\n",
    "    first_frame_df = parquet_df[parquet_df.frame == first_frame].copy()\n",
    "    first_frame_df = first_frame_df.sort_values([\"plot_order\"]).set_index('plot_order')\n",
    "\n",
    "\n",
    "    frames_l = []\n",
    "    for frame in frames:\n",
    "        filtered_df = parquet_df[parquet_df.frame == frame].copy()\n",
    "        filtered_df = filtered_df.sort_values([\"plot_order\"]).set_index(\"plot_order\")\n",
    "        traces = [go.Scatter(\n",
    "            x=filtered_df['x'],\n",
    "            y=filtered_df['y'],\n",
    "            # z=filtered_df['z'],\n",
    "            mode='markers',\n",
    "            marker=dict(\n",
    "                color=filtered_df.color,\n",
    "                size=9))]\n",
    "\n",
    "        for i, seg in enumerate(connections):\n",
    "            trace = go.Scatter(\n",
    "                    x=filtered_df.loc[seg]['x'],\n",
    "                    y=filtered_df.loc[seg]['y'],\n",
    "                    # z=filtered_df.loc[seg]['z'],\n",
    "                    mode='lines',\n",
    "            )\n",
    "            traces.append(trace)\n",
    "        frame_data = go.Frame(data=traces, traces = [i for i in range(17)])\n",
    "        frames_l.append(frame_data)\n",
    "\n",
    "    traces = [go.Scatter(\n",
    "        x=first_frame_df['x'],\n",
    "        y=first_frame_df['y'],\n",
    "        # z=first_frame_df['z'],\n",
    "        mode='markers',\n",
    "        marker=dict(\n",
    "            color=first_frame_df.color,\n",
    "            size=9\n",
    "        )\n",
    "    )]\n",
    "    for i, seg in enumerate(connections):\n",
    "        trace = go.Scatter(\n",
    "            x=first_frame_df.loc[seg]['x'],\n",
    "            y=first_frame_df.loc[seg]['y'],\n",
    "            # z=first_frame_df.loc[seg]['z'],\n",
    "            mode='lines',\n",
    "            line=dict(\n",
    "                color='black',\n",
    "                width=2\n",
    "            )\n",
    "        )\n",
    "        traces.append(trace)\n",
    "    fig = go.Figure(\n",
    "        data=traces,\n",
    "        frames=frames_l\n",
    "    )\n",
    "\n",
    "    # Layout\n",
    "    fig.update_layout(\n",
    "        title=\"ASL Sign Visualization\",\n",
    "        width=1000,\n",
    "        height=1800,\n",
    "        scene={\n",
    "            'aspectmode': 'data',\n",
    "        },\n",
    "        updatemenus=[\n",
    "            {\n",
    "                \"buttons\": [\n",
    "                    {\n",
    "                        \"args\": [None, {\"frame\": {\"duration\": 100,\n",
    "                                                  \"redraw\": True},\n",
    "                                        \"fromcurrent\": True,\n",
    "                                        \"transition\": {\"duration\": 0}}],\n",
    "                        \"label\": \"&#9654;\",\n",
    "                        \"method\": \"animate\",\n",
    "                    },\n",
    "\n",
    "                ],\n",
    "                \"direction\": \"left\",\n",
    "                \"pad\": {\"r\": 100, \"t\": 100},\n",
    "                \"font\": {\"size\":30},\n",
    "                \"type\": \"buttons\",\n",
    "                \"x\": 0.1,\n",
    "                \"y\": 0,\n",
    "            }\n",
    "        ],\n",
    "    )\n",
    "    camera = dict(\n",
    "        up=dict(x=0, y=-1, z=0),\n",
    "        eye=dict(x=0, y=0, z=2.5)\n",
    "    )\n",
    "    fig.update_layout(scene_camera=camera, showlegend=False)\n",
    "    fig.update_layout(xaxis = dict(visible=False),\n",
    "            yaxis = dict(visible=False),\n",
    "    )\n",
    "    fig.update_yaxes(autorange=\"reversed\")\n",
    "\n",
    "    # fig.show()\n",
    "    return fig\n",
    "\n",
    "def visualiseavg_landmarks(parquet_df):\n",
    "    connections = [  # right hand\n",
    "        [0, 1, 2, 3, 4,],\n",
    "        [0, 5, 6, 7, 8],\n",
    "        [0, 9, 10, 11, 12],\n",
    "        [0, 13, 14, 15, 16],\n",
    "        [0, 17, 18, 19, 20],\n",
    "\n",
    "        # pose\n",
    "        [38, 36, 35, 34, 30, 31, 32, 33, 37],\n",
    "        [40, 39],\n",
    "        [52, 46, 50, 48, 46, 44, 42, 41, 43, 45, 47, 49, 45, 51],\n",
    "        [42, 54, 56, 58, 60, 62, 58],\n",
    "        [41, 53, 55, 57, 59, 61, 57],\n",
    "        [54, 53],\n",
    "\n",
    "        # left hand\n",
    "        [80, 81, 82, 83, 84, ],\n",
    "        [80, 85, 86, 87, 88],\n",
    "        [80, 89, 90, 91, 92],\n",
    "        [80, 93, 94, 95, 96],\n",
    "        [80, 97, 98, 99, 100], ]\n",
    "\n",
    "    first_frame_df = parquet_df.copy()\n",
    "    first_frame_df['color'] = first_frame_df.type.apply(lambda row: assign_color(row))\n",
    "    first_frame_df['plot_order'] = first_frame_df.apply(lambda row: assign_order(row), axis=1)\n",
    "    first_frame_df = first_frame_df.groupby(\"plot_order\").agg({'x':'mean', 'y':'mean', 'color':'first'}).reset_index()\n",
    "    first_frame_df = first_frame_df.sort_values([\"plot_order\"]).set_index('plot_order')\n",
    "\n",
    "    traces = [go.Scatter(\n",
    "        x=first_frame_df['x'],\n",
    "        y=first_frame_df['y'],\n",
    "        # z=first_frame_df['z'],\n",
    "        mode='markers',\n",
    "        marker=dict(\n",
    "            color=first_frame_df.color,\n",
    "            size=9\n",
    "        )\n",
    "    )]\n",
    "    for i, seg in enumerate(connections):\n",
    "        trace = go.Scatter(\n",
    "            x=first_frame_df.loc[seg]['x'],\n",
    "            y=first_frame_df.loc[seg]['y'],\n",
    "            # z=first_frame_df.loc[seg]['z'],\n",
    "            mode='lines',\n",
    "            line=dict(\n",
    "                color='black',\n",
    "                width=2\n",
    "            )\n",
    "        )\n",
    "        traces.append(trace)\n",
    "    fig = go.Figure(\n",
    "        data=traces,\n",
    "    )\n",
    "\n",
    "    # Layout\n",
    "    fig.update_layout(\n",
    "        title=\"ASL Sign Visualization\",\n",
    "        width=1000,\n",
    "        height=1800)\n",
    "    fig.update_layout(showlegend=False)\n",
    "    fig.update_layout(xaxis = dict(visible=False),\n",
    "                      yaxis = dict(visible=False),\n",
    "                      )\n",
    "    fig.update_yaxes(autorange=\"reversed\")\n",
    "\n",
    "    return fig"
   ]
  },
  {
   "cell_type": "markdown",
   "id": "00ed663e",
   "metadata": {
    "papermill": {
     "duration": 0.008883,
     "end_time": "2023-03-22T15:05:41.085443",
     "exception": false,
     "start_time": "2023-03-22T15:05:41.076560",
     "status": "completed"
    },
    "tags": []
   },
   "source": [
    "## App & Navigation bar"
   ]
  },
  {
   "cell_type": "code",
   "execution_count": 4,
   "id": "278c85b6",
   "metadata": {
    "execution": {
     "iopub.execute_input": "2023-03-22T15:05:41.105805Z",
     "iopub.status.busy": "2023-03-22T15:05:41.105383Z",
     "iopub.status.idle": "2023-03-22T15:05:41.485654Z",
     "shell.execute_reply": "2023-03-22T15:05:41.484454Z"
    },
    "papermill": {
     "duration": 0.393966,
     "end_time": "2023-03-22T15:05:41.488617",
     "exception": false,
     "start_time": "2023-03-22T15:05:41.094651",
     "status": "completed"
    },
    "tags": []
   },
   "outputs": [],
   "source": [
    "app = JupyterDash(__name__, server_url=tunnel.public_url, meta_tags=[{\"name\": \"viewport\", \"content\": \"width=device-width\"}],\n",
    "                external_stylesheets=[dbc.themes.BOOTSTRAP],suppress_callback_exceptions=True)\n",
    "\n",
    "def Navbar():\n",
    "    layout = html.Div([\n",
    "        dbc.NavbarSimple(\n",
    "            children=[\n",
    "                dbc.NavItem(dbc.NavLink(\"2D Visuals\", href=\"/landmark2d\", id=\"landmark2d\")),\n",
    "                dbc.NavItem(dbc.NavLink(\"Mean Visual\", href=\"/landmarkavg\", id=\"landmarkavg\")),\n",
    "            ] ,\n",
    "            brand=\"Landmark 2D Visualization Dashboard\",\n",
    "            brand_href=\"/landmark2d\",\n",
    "            id=\"navbar\",\n",
    "            color=\"dark\",\n",
    "            dark=True,\n",
    "        ),\n",
    "    ])\n",
    "\n",
    "    return layout\n",
    "\n",
    "data_directory = '/kaggle/input/asl-signs/'\n",
    "train_data = pd.read_csv(data_directory + 'train.csv')\n",
    "dropdown_options = train_data.groupby('sign')['sequence_id'].apply(list).to_dict()\n",
    "names = list(dropdown_options.keys())\n",
    "nestedOptions = dropdown_options[names[0]]"
   ]
  },
  {
   "cell_type": "markdown",
   "id": "344bd8a1",
   "metadata": {
    "papermill": {
     "duration": 0.008709,
     "end_time": "2023-03-22T15:05:41.506789",
     "exception": false,
     "start_time": "2023-03-22T15:05:41.498080",
     "status": "completed"
    },
    "tags": []
   },
   "source": [
    "## 2D Landmarks Video Page"
   ]
  },
  {
   "cell_type": "code",
   "execution_count": 5,
   "id": "6e284f77",
   "metadata": {
    "execution": {
     "iopub.execute_input": "2023-03-22T15:05:41.529091Z",
     "iopub.status.busy": "2023-03-22T15:05:41.528591Z",
     "iopub.status.idle": "2023-03-22T15:05:54.884407Z",
     "shell.execute_reply": "2023-03-22T15:05:54.882995Z"
    },
    "papermill": {
     "duration": 13.371059,
     "end_time": "2023-03-22T15:05:54.887329",
     "exception": false,
     "start_time": "2023-03-22T15:05:41.516270",
     "status": "completed"
    },
    "tags": []
   },
   "outputs": [],
   "source": [
    "def visual_dash(sequence_id):\n",
    "    data = train_data.copy()\n",
    "    parquet_file = data[data.sequence_id == sequence_id]\n",
    "    parquet_path = parquet_file.path.values[0]\n",
    "    sign_cat = parquet_file.sign.values[0]\n",
    "\n",
    "    parquet_df = pd.read_parquet(data_directory + parquet_path)\n",
    "    fig = visualise2d_landmarks(parquet_df)\n",
    "\n",
    "    return fig, sign_cat\n",
    "\n",
    "fig, sign_cat = visual_dash(1002052130)\n",
    "\n",
    "\n",
    "sign_dropdown1 = dcc.Dropdown(options=[{'label':name, 'value':name} for name in names],\n",
    "                                  id='sign_dropdown',\n",
    "                                  clearable=False,\n",
    "                                  value = names[0], className=\"dbc\",\n",
    "                                  placeholder='Select a Sign', maxHeight=200)\n",
    "\n",
    "sequence_dropdown1 = dcc.Dropdown(id='sequence_dropdown',\n",
    "                               clearable=False,\n",
    "                               className=\"dbc\",\n",
    "                               placeholder='Select a Sequence ID', maxHeight=200)\n",
    "\n",
    "layout_2d = dbc.Container(\n",
    "    [dbc.Row([dbc.Col(sign_dropdown1),\n",
    "              dbc.Col(sequence_dropdown1),]),\n",
    "     dbc.Row([html.H1(id='sign_cat'),\n",
    "         dbc.Col([\n",
    "             dcc.Graph(id='fig', figure=fig,\n",
    "                       style={'height': 2000}),\n",
    "             html.Hr()\n",
    "         ], width={'size': 12, 'offset': 0, 'order': 1})])]\n",
    ")"
   ]
  },
  {
   "cell_type": "markdown",
   "id": "80e4c113",
   "metadata": {
    "papermill": {
     "duration": 0.008732,
     "end_time": "2023-03-22T15:05:54.905423",
     "exception": false,
     "start_time": "2023-03-22T15:05:54.896691",
     "status": "completed"
    },
    "tags": []
   },
   "source": [
    "## Mean Frame Page"
   ]
  },
  {
   "cell_type": "code",
   "execution_count": 6,
   "id": "9baf7a76",
   "metadata": {
    "execution": {
     "iopub.execute_input": "2023-03-22T15:05:54.926786Z",
     "iopub.status.busy": "2023-03-22T15:05:54.926323Z",
     "iopub.status.idle": "2023-03-22T15:05:55.228501Z",
     "shell.execute_reply": "2023-03-22T15:05:55.227201Z"
    },
    "papermill": {
     "duration": 0.315945,
     "end_time": "2023-03-22T15:05:55.231339",
     "exception": false,
     "start_time": "2023-03-22T15:05:54.915394",
     "status": "completed"
    },
    "tags": []
   },
   "outputs": [],
   "source": [
    "def visualmean_dash(sequence_id):\n",
    "    data = train_data.copy()\n",
    "    parquet_file = data[data.sequence_id == sequence_id]\n",
    "    parquet_path = parquet_file.path.values[0]\n",
    "    sign_cat = parquet_file.sign.values[0]\n",
    "\n",
    "    parquet_df = pd.read_parquet(data_directory + parquet_path)\n",
    "    fig = visualiseavg_landmarks(parquet_df)\n",
    "\n",
    "    return fig, sign_cat\n",
    "\n",
    "fig, sign_cat = visualmean_dash(1187993400)\n",
    "\n",
    "\n",
    "sign_dropdown = dcc.Dropdown(options=[{'label':name, 'value':name} for name in names],\n",
    "                             id='sign_dropdown',\n",
    "                             clearable=False,\n",
    "                             value = names[0], className=\"dbc\",\n",
    "                             placeholder='Select a Sign', maxHeight=200)\n",
    "\n",
    "sequence_dropdown = dcc.Dropdown(id='sequence_dropdown',\n",
    "                                 clearable=False,\n",
    "                                 className=\"dbc\",\n",
    "                                 placeholder='Select a Sequence ID', maxHeight=200)\n",
    "\n",
    "layout_mean = dbc.Container(\n",
    "    [dbc.Row([dbc.Col(sign_dropdown),\n",
    "              dbc.Col(sequence_dropdown),]),\n",
    "     dbc.Row([html.H1(id='sign_cat2'),\n",
    "              dbc.Col([\n",
    "                  dcc.Graph(id='fig2', figure=fig,\n",
    "                            style={'height': 2000}),\n",
    "                  html.Hr()\n",
    "              ], width={'size': 12, 'offset': 0, 'order': 1})])]\n",
    ")"
   ]
  },
  {
   "cell_type": "markdown",
   "id": "7758e3e1",
   "metadata": {
    "papermill": {
     "duration": 0.009142,
     "end_time": "2023-03-22T15:05:55.249870",
     "exception": false,
     "start_time": "2023-03-22T15:05:55.240728",
     "status": "completed"
    },
    "tags": []
   },
   "source": [
    "## Putting Everything Together!"
   ]
  },
  {
   "cell_type": "code",
   "execution_count": 7,
   "id": "4f48614d",
   "metadata": {
    "execution": {
     "iopub.execute_input": "2023-03-22T15:05:55.272072Z",
     "iopub.status.busy": "2023-03-22T15:05:55.270760Z",
     "iopub.status.idle": "2023-03-22T15:05:55.328884Z",
     "shell.execute_reply": "2023-03-22T15:05:55.327369Z"
    },
    "papermill": {
     "duration": 0.072072,
     "end_time": "2023-03-22T15:05:55.332013",
     "exception": false,
     "start_time": "2023-03-22T15:05:55.259941",
     "status": "completed"
    },
    "tags": []
   },
   "outputs": [
    {
     "name": "stdout",
     "output_type": "stream",
     "text": [
      "Dash is running on http://127.0.0.1:8050/\n",
      "\n",
      "Dash app running on http://683e-35-204-225-11.ngrok.io/\n"
     ]
    }
   ],
   "source": [
    "nav = Navbar()\n",
    "\n",
    "app.layout = html.Div([\n",
    "    dcc.Location(id='url', refresh=False),\n",
    "    nav,\n",
    "    html.Div(id='page-content', children=[]),\n",
    "])\n",
    "\n",
    "@app.callback(Output('page-content', 'children'),\n",
    "              [Input('url', 'pathname')])\n",
    "\n",
    "def display_page(pathname):\n",
    "    if pathname == '/landmark2d':\n",
    "        return layout_2d\n",
    "    if pathname == '/landmarkavg':\n",
    "        return layout_mean\n",
    "    else:\n",
    "        return layout_2d\n",
    "\n",
    "@app.callback(\n",
    "     Output('sequence_dropdown', 'options'),\n",
    "    [Input('sign_dropdown', 'value')]\n",
    ")\n",
    "def update_dropdown(name):\n",
    "    return [{'label': i, 'value': i} for i in dropdown_options[name]]\n",
    "\n",
    "@app.callback([Output(component_id=\"fig\", component_property=\"figure\"),\n",
    "               Output(component_id=\"sign_cat\", component_property=\"children\")],\n",
    "              [Input('sequence_dropdown', 'value')])\n",
    "def callback_function(sequence_id):\n",
    "    fig, sign_cat = visual_dash(sequence_id)\n",
    "    return fig, sign_cat\n",
    "\n",
    "@app.callback([Output(component_id=\"fig2\", component_property=\"figure\"),\n",
    "               Output(component_id=\"sign_cat2\", component_property=\"children\")],\n",
    "              [Input('sequence_dropdown', 'value')])\n",
    "def callback_function(sequence_id):\n",
    "    fig, sign_cat = visualmean_dash(sequence_id)\n",
    "    return fig, sign_cat\n",
    "\n",
    "# Run the app on localhost:8050\n",
    "app.run_server(mode='external')"
   ]
  }
 ],
 "metadata": {
  "kernelspec": {
   "display_name": "Python 3",
   "language": "python",
   "name": "python3"
  },
  "language_info": {
   "codemirror_mode": {
    "name": "ipython",
    "version": 3
   },
   "file_extension": ".py",
   "mimetype": "text/x-python",
   "name": "python",
   "nbconvert_exporter": "python",
   "pygments_lexer": "ipython3",
   "version": "3.7.12"
  },
  "papermill": {
   "default_parameters": {},
   "duration": 91.076161,
   "end_time": "2023-03-22T15:05:56.267452",
   "environment_variables": {},
   "exception": null,
   "input_path": "__notebook__.ipynb",
   "output_path": "__notebook__.ipynb",
   "parameters": {},
   "start_time": "2023-03-22T15:04:25.191291",
   "version": "2.4.0"
  }
 },
 "nbformat": 4,
 "nbformat_minor": 5
}
